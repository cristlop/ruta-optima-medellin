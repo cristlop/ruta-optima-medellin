{
  "nbformat": 4,
  "nbformat_minor": 0,
  "metadata": {
    "colab": {
      "provenance": []
    },
    "kernelspec": {
      "name": "python3",
      "display_name": "Python 3"
    },
    "language_info": {
      "name": "python"
    }
  },
  "cells": [
    {
      "cell_type": "markdown",
      "source": [
        "# **PROYECTO FINAL - Ruta óptima para la reducción de accidentes en Medellín**"
      ],
      "metadata": {
        "id": "PsPjUll4eDJ5"
      }
    },
    {
      "cell_type": "markdown",
      "source": [
        "Cristian Alberto López Chaverra - calopezc@eafit.edu.co\n",
        "\n",
        "**Introducción a la Inteligencia Artificial**\n",
        "\n",
        "2025 - 1"
      ],
      "metadata": {
        "id": "EPreg7VVe1Sl"
      }
    },
    {
      "cell_type": "markdown",
      "source": [
        "**Librerías**"
      ],
      "metadata": {
        "id": "jQ0bGy5hegrT"
      }
    },
    {
      "cell_type": "code",
      "source": [
        "from google.colab import drive\n",
        "import numpy as np\n",
        "import pandas as pd\n",
        "import datetime\n",
        "import matplotlib.pyplot as plt\n",
        "import seaborn as sns\n",
        "import heapq\n",
        "from sklearn.cluster import KMeans\n",
        "from scipy.spatial import KDTree"
      ],
      "metadata": {
        "id": "wdeEryCZejnF"
      },
      "execution_count": 1,
      "outputs": []
    },
    {
      "cell_type": "code",
      "source": [
        "drive.mount('/content/drive')"
      ],
      "metadata": {
        "colab": {
          "base_uri": "https://localhost:8080/"
        },
        "id": "YWYvRVKneDyt",
        "outputId": "312a643f-b132-416d-eb5c-59768f986eaf"
      },
      "execution_count": 2,
      "outputs": [
        {
          "output_type": "stream",
          "name": "stdout",
          "text": [
            "Mounted at /content/drive\n"
          ]
        }
      ]
    },
    {
      "cell_type": "code",
      "execution_count": 3,
      "metadata": {
        "colab": {
          "base_uri": "https://localhost:8080/"
        },
        "id": "QmHVh6FycaDg",
        "outputId": "933b023b-e7a9-4dd4-cdd2-aec734247a3a"
      },
      "outputs": [
        {
          "output_type": "stream",
          "name": "stderr",
          "text": [
            "<ipython-input-3-c5abe177ce66>:4: DtypeWarning: Columns (0,1,2,3,4,5,6,7,8,9,11,12,14,15,16,17,18) have mixed types. Specify dtype option on import or set low_memory=False.\n",
            "  df = pd.read_csv(file_path, encoding=\"latin1\")\n"
          ]
        },
        {
          "output_type": "stream",
          "name": "stdout",
          "text": [
            "  Gravedad_victima Fecha_incidente Hora_incidente Clase_incidente  \\\n",
            "0          Heridos       1/01/2014       00:15:00            Otro   \n",
            "1          Heridos       1/01/2014       00:30:00       Atropello   \n",
            "2          Heridos       1/01/2014       00:30:00       Atropello   \n",
            "3          Heridos       1/01/2014       00:37:00       Atropello   \n",
            "4          Heridos       1/01/2014       00:37:00       Atropello   \n",
            "\n",
            "  Direccion_incidente Sexo Edad     Condicion  Mes   Dia  Num_dia Hora  \\\n",
            "0         CR 49 CL 72    M   17  Motociclista  Ene  MiÃ©      1.0    0   \n",
            "1         CR 46 CL 98    M   20  Motociclista  Ene  MiÃ©      1.0    0   \n",
            "2         CR 46 CL 98    F   18       PeatÃ³n  Ene  MiÃ©      1.0    0   \n",
            "3         CL 32 CR 84    M   19  Motociclista  Ene  MiÃ©      1.0    0   \n",
            "4         CL 32 CR 84    M   39       PeatÃ³n  Ene  MiÃ©      1.0    0   \n",
            "\n",
            "  Grupo_edad    AÃ±o Radicado      Latitud      Longitud         Comuna  \\\n",
            "0    10 - 19  2014.0  1423940   6,26691466   -75,5590994  04 - Aranjuez   \n",
            "1    20 - 29  2014.0  1423921  6,289353458  -75,55329197   01 - Popular   \n",
            "2    10 - 19  2014.0  1423921  6,289353458  -75,55329197   01 - Popular   \n",
            "3    10 - 19  2014.0  1423849  6,234327372  -75,60761079    16 - BelÃ©n   \n",
            "4    30 - 39  2014.0  1423849  6,234327372  -75,60761079    16 - BelÃ©n   \n",
            "\n",
            "                   Barrio  \n",
            "0  Manrique Central No. 1  \n",
            "1            MoscÃº No. 2  \n",
            "2            MoscÃº No. 2  \n",
            "3            Las Mercedes  \n",
            "4            Las Mercedes  \n"
          ]
        }
      ],
      "source": [
        "# Ruta del archivo en Google Drive\n",
        "file_path = \"/content/drive/My Drive/Colab Notebooks/Mede_Victimas_inci.csv\"\n",
        "\n",
        "df = pd.read_csv(file_path, encoding=\"latin1\")\n",
        "print(df.head())"
      ]
    },
    {
      "cell_type": "markdown",
      "source": [
        "## **EDA y Limpieza de Datos**"
      ],
      "metadata": {
        "id": "rCnek7LyfZYN"
      }
    },
    {
      "cell_type": "markdown",
      "source": [
        "**Revisión de estructura inicial**"
      ],
      "metadata": {
        "id": "5EMyU4HCgH3n"
      }
    },
    {
      "cell_type": "code",
      "source": [
        "df.info()\n",
        "df.head()"
      ],
      "metadata": {
        "colab": {
          "base_uri": "https://localhost:8080/",
          "height": 768
        },
        "id": "h1mq4PA2e5Cl",
        "outputId": "88cd918e-2fd3-4d30-fefb-386d594fe904"
      },
      "execution_count": 4,
      "outputs": [
        {
          "output_type": "stream",
          "name": "stdout",
          "text": [
            "<class 'pandas.core.frame.DataFrame'>\n",
            "RangeIndex: 1048317 entries, 0 to 1048316\n",
            "Data columns (total 19 columns):\n",
            " #   Column               Non-Null Count   Dtype  \n",
            "---  ------               --------------   -----  \n",
            " 0   Gravedad_victima     235843 non-null  object \n",
            " 1   Fecha_incidente      235843 non-null  object \n",
            " 2   Hora_incidente       235843 non-null  object \n",
            " 3   Clase_incidente      235843 non-null  object \n",
            " 4   Direccion_incidente  235831 non-null  object \n",
            " 5   Sexo                 235843 non-null  object \n",
            " 6   Edad                 235335 non-null  object \n",
            " 7   Condicion            235843 non-null  object \n",
            " 8   Mes                  235843 non-null  object \n",
            " 9   Dia                  235843 non-null  object \n",
            " 10  Num_dia              235843 non-null  float64\n",
            " 11  Hora                 235843 non-null  object \n",
            " 12  Grupo_edad           235843 non-null  object \n",
            " 13  AÃ±o                 235843 non-null  float64\n",
            " 14  Radicado             235838 non-null  object \n",
            " 15  Latitud              235843 non-null  object \n",
            " 16  Longitud             235843 non-null  object \n",
            " 17  Comuna               235843 non-null  object \n",
            " 18  Barrio               235225 non-null  object \n",
            "dtypes: float64(2), object(17)\n",
            "memory usage: 152.0+ MB\n"
          ]
        },
        {
          "output_type": "execute_result",
          "data": {
            "text/plain": [
              "  Gravedad_victima Fecha_incidente Hora_incidente Clase_incidente  \\\n",
              "0          Heridos       1/01/2014       00:15:00            Otro   \n",
              "1          Heridos       1/01/2014       00:30:00       Atropello   \n",
              "2          Heridos       1/01/2014       00:30:00       Atropello   \n",
              "3          Heridos       1/01/2014       00:37:00       Atropello   \n",
              "4          Heridos       1/01/2014       00:37:00       Atropello   \n",
              "\n",
              "  Direccion_incidente Sexo Edad     Condicion  Mes   Dia  Num_dia Hora  \\\n",
              "0         CR 49 CL 72    M   17  Motociclista  Ene  MiÃ©      1.0    0   \n",
              "1         CR 46 CL 98    M   20  Motociclista  Ene  MiÃ©      1.0    0   \n",
              "2         CR 46 CL 98    F   18       PeatÃ³n  Ene  MiÃ©      1.0    0   \n",
              "3         CL 32 CR 84    M   19  Motociclista  Ene  MiÃ©      1.0    0   \n",
              "4         CL 32 CR 84    M   39       PeatÃ³n  Ene  MiÃ©      1.0    0   \n",
              "\n",
              "  Grupo_edad    AÃ±o Radicado      Latitud      Longitud         Comuna  \\\n",
              "0    10 - 19  2014.0  1423940   6,26691466   -75,5590994  04 - Aranjuez   \n",
              "1    20 - 29  2014.0  1423921  6,289353458  -75,55329197   01 - Popular   \n",
              "2    10 - 19  2014.0  1423921  6,289353458  -75,55329197   01 - Popular   \n",
              "3    10 - 19  2014.0  1423849  6,234327372  -75,60761079    16 - BelÃ©n   \n",
              "4    30 - 39  2014.0  1423849  6,234327372  -75,60761079    16 - BelÃ©n   \n",
              "\n",
              "                   Barrio  \n",
              "0  Manrique Central No. 1  \n",
              "1            MoscÃº No. 2  \n",
              "2            MoscÃº No. 2  \n",
              "3            Las Mercedes  \n",
              "4            Las Mercedes  "
            ],
            "text/html": [
              "\n",
              "  <div id=\"df-05fd850e-5360-4d4a-91ba-4f5bcc110c32\" class=\"colab-df-container\">\n",
              "    <div>\n",
              "<style scoped>\n",
              "    .dataframe tbody tr th:only-of-type {\n",
              "        vertical-align: middle;\n",
              "    }\n",
              "\n",
              "    .dataframe tbody tr th {\n",
              "        vertical-align: top;\n",
              "    }\n",
              "\n",
              "    .dataframe thead th {\n",
              "        text-align: right;\n",
              "    }\n",
              "</style>\n",
              "<table border=\"1\" class=\"dataframe\">\n",
              "  <thead>\n",
              "    <tr style=\"text-align: right;\">\n",
              "      <th></th>\n",
              "      <th>Gravedad_victima</th>\n",
              "      <th>Fecha_incidente</th>\n",
              "      <th>Hora_incidente</th>\n",
              "      <th>Clase_incidente</th>\n",
              "      <th>Direccion_incidente</th>\n",
              "      <th>Sexo</th>\n",
              "      <th>Edad</th>\n",
              "      <th>Condicion</th>\n",
              "      <th>Mes</th>\n",
              "      <th>Dia</th>\n",
              "      <th>Num_dia</th>\n",
              "      <th>Hora</th>\n",
              "      <th>Grupo_edad</th>\n",
              "      <th>AÃ±o</th>\n",
              "      <th>Radicado</th>\n",
              "      <th>Latitud</th>\n",
              "      <th>Longitud</th>\n",
              "      <th>Comuna</th>\n",
              "      <th>Barrio</th>\n",
              "    </tr>\n",
              "  </thead>\n",
              "  <tbody>\n",
              "    <tr>\n",
              "      <th>0</th>\n",
              "      <td>Heridos</td>\n",
              "      <td>1/01/2014</td>\n",
              "      <td>00:15:00</td>\n",
              "      <td>Otro</td>\n",
              "      <td>CR 49 CL 72</td>\n",
              "      <td>M</td>\n",
              "      <td>17</td>\n",
              "      <td>Motociclista</td>\n",
              "      <td>Ene</td>\n",
              "      <td>MiÃ©</td>\n",
              "      <td>1.0</td>\n",
              "      <td>0</td>\n",
              "      <td>10 - 19</td>\n",
              "      <td>2014.0</td>\n",
              "      <td>1423940</td>\n",
              "      <td>6,26691466</td>\n",
              "      <td>-75,5590994</td>\n",
              "      <td>04 - Aranjuez</td>\n",
              "      <td>Manrique Central No. 1</td>\n",
              "    </tr>\n",
              "    <tr>\n",
              "      <th>1</th>\n",
              "      <td>Heridos</td>\n",
              "      <td>1/01/2014</td>\n",
              "      <td>00:30:00</td>\n",
              "      <td>Atropello</td>\n",
              "      <td>CR 46 CL 98</td>\n",
              "      <td>M</td>\n",
              "      <td>20</td>\n",
              "      <td>Motociclista</td>\n",
              "      <td>Ene</td>\n",
              "      <td>MiÃ©</td>\n",
              "      <td>1.0</td>\n",
              "      <td>0</td>\n",
              "      <td>20 - 29</td>\n",
              "      <td>2014.0</td>\n",
              "      <td>1423921</td>\n",
              "      <td>6,289353458</td>\n",
              "      <td>-75,55329197</td>\n",
              "      <td>01 - Popular</td>\n",
              "      <td>MoscÃº No. 2</td>\n",
              "    </tr>\n",
              "    <tr>\n",
              "      <th>2</th>\n",
              "      <td>Heridos</td>\n",
              "      <td>1/01/2014</td>\n",
              "      <td>00:30:00</td>\n",
              "      <td>Atropello</td>\n",
              "      <td>CR 46 CL 98</td>\n",
              "      <td>F</td>\n",
              "      <td>18</td>\n",
              "      <td>PeatÃ³n</td>\n",
              "      <td>Ene</td>\n",
              "      <td>MiÃ©</td>\n",
              "      <td>1.0</td>\n",
              "      <td>0</td>\n",
              "      <td>10 - 19</td>\n",
              "      <td>2014.0</td>\n",
              "      <td>1423921</td>\n",
              "      <td>6,289353458</td>\n",
              "      <td>-75,55329197</td>\n",
              "      <td>01 - Popular</td>\n",
              "      <td>MoscÃº No. 2</td>\n",
              "    </tr>\n",
              "    <tr>\n",
              "      <th>3</th>\n",
              "      <td>Heridos</td>\n",
              "      <td>1/01/2014</td>\n",
              "      <td>00:37:00</td>\n",
              "      <td>Atropello</td>\n",
              "      <td>CL 32 CR 84</td>\n",
              "      <td>M</td>\n",
              "      <td>19</td>\n",
              "      <td>Motociclista</td>\n",
              "      <td>Ene</td>\n",
              "      <td>MiÃ©</td>\n",
              "      <td>1.0</td>\n",
              "      <td>0</td>\n",
              "      <td>10 - 19</td>\n",
              "      <td>2014.0</td>\n",
              "      <td>1423849</td>\n",
              "      <td>6,234327372</td>\n",
              "      <td>-75,60761079</td>\n",
              "      <td>16 - BelÃ©n</td>\n",
              "      <td>Las Mercedes</td>\n",
              "    </tr>\n",
              "    <tr>\n",
              "      <th>4</th>\n",
              "      <td>Heridos</td>\n",
              "      <td>1/01/2014</td>\n",
              "      <td>00:37:00</td>\n",
              "      <td>Atropello</td>\n",
              "      <td>CL 32 CR 84</td>\n",
              "      <td>M</td>\n",
              "      <td>39</td>\n",
              "      <td>PeatÃ³n</td>\n",
              "      <td>Ene</td>\n",
              "      <td>MiÃ©</td>\n",
              "      <td>1.0</td>\n",
              "      <td>0</td>\n",
              "      <td>30 - 39</td>\n",
              "      <td>2014.0</td>\n",
              "      <td>1423849</td>\n",
              "      <td>6,234327372</td>\n",
              "      <td>-75,60761079</td>\n",
              "      <td>16 - BelÃ©n</td>\n",
              "      <td>Las Mercedes</td>\n",
              "    </tr>\n",
              "  </tbody>\n",
              "</table>\n",
              "</div>\n",
              "    <div class=\"colab-df-buttons\">\n",
              "\n",
              "  <div class=\"colab-df-container\">\n",
              "    <button class=\"colab-df-convert\" onclick=\"convertToInteractive('df-05fd850e-5360-4d4a-91ba-4f5bcc110c32')\"\n",
              "            title=\"Convert this dataframe to an interactive table.\"\n",
              "            style=\"display:none;\">\n",
              "\n",
              "  <svg xmlns=\"http://www.w3.org/2000/svg\" height=\"24px\" viewBox=\"0 -960 960 960\">\n",
              "    <path d=\"M120-120v-720h720v720H120Zm60-500h600v-160H180v160Zm220 220h160v-160H400v160Zm0 220h160v-160H400v160ZM180-400h160v-160H180v160Zm440 0h160v-160H620v160ZM180-180h160v-160H180v160Zm440 0h160v-160H620v160Z\"/>\n",
              "  </svg>\n",
              "    </button>\n",
              "\n",
              "  <style>\n",
              "    .colab-df-container {\n",
              "      display:flex;\n",
              "      gap: 12px;\n",
              "    }\n",
              "\n",
              "    .colab-df-convert {\n",
              "      background-color: #E8F0FE;\n",
              "      border: none;\n",
              "      border-radius: 50%;\n",
              "      cursor: pointer;\n",
              "      display: none;\n",
              "      fill: #1967D2;\n",
              "      height: 32px;\n",
              "      padding: 0 0 0 0;\n",
              "      width: 32px;\n",
              "    }\n",
              "\n",
              "    .colab-df-convert:hover {\n",
              "      background-color: #E2EBFA;\n",
              "      box-shadow: 0px 1px 2px rgba(60, 64, 67, 0.3), 0px 1px 3px 1px rgba(60, 64, 67, 0.15);\n",
              "      fill: #174EA6;\n",
              "    }\n",
              "\n",
              "    .colab-df-buttons div {\n",
              "      margin-bottom: 4px;\n",
              "    }\n",
              "\n",
              "    [theme=dark] .colab-df-convert {\n",
              "      background-color: #3B4455;\n",
              "      fill: #D2E3FC;\n",
              "    }\n",
              "\n",
              "    [theme=dark] .colab-df-convert:hover {\n",
              "      background-color: #434B5C;\n",
              "      box-shadow: 0px 1px 3px 1px rgba(0, 0, 0, 0.15);\n",
              "      filter: drop-shadow(0px 1px 2px rgba(0, 0, 0, 0.3));\n",
              "      fill: #FFFFFF;\n",
              "    }\n",
              "  </style>\n",
              "\n",
              "    <script>\n",
              "      const buttonEl =\n",
              "        document.querySelector('#df-05fd850e-5360-4d4a-91ba-4f5bcc110c32 button.colab-df-convert');\n",
              "      buttonEl.style.display =\n",
              "        google.colab.kernel.accessAllowed ? 'block' : 'none';\n",
              "\n",
              "      async function convertToInteractive(key) {\n",
              "        const element = document.querySelector('#df-05fd850e-5360-4d4a-91ba-4f5bcc110c32');\n",
              "        const dataTable =\n",
              "          await google.colab.kernel.invokeFunction('convertToInteractive',\n",
              "                                                    [key], {});\n",
              "        if (!dataTable) return;\n",
              "\n",
              "        const docLinkHtml = 'Like what you see? Visit the ' +\n",
              "          '<a target=\"_blank\" href=https://colab.research.google.com/notebooks/data_table.ipynb>data table notebook</a>'\n",
              "          + ' to learn more about interactive tables.';\n",
              "        element.innerHTML = '';\n",
              "        dataTable['output_type'] = 'display_data';\n",
              "        await google.colab.output.renderOutput(dataTable, element);\n",
              "        const docLink = document.createElement('div');\n",
              "        docLink.innerHTML = docLinkHtml;\n",
              "        element.appendChild(docLink);\n",
              "      }\n",
              "    </script>\n",
              "  </div>\n",
              "\n",
              "\n",
              "<div id=\"df-8a543a87-c50c-42e4-b7fa-18f9d20db0f6\">\n",
              "  <button class=\"colab-df-quickchart\" onclick=\"quickchart('df-8a543a87-c50c-42e4-b7fa-18f9d20db0f6')\"\n",
              "            title=\"Suggest charts\"\n",
              "            style=\"display:none;\">\n",
              "\n",
              "<svg xmlns=\"http://www.w3.org/2000/svg\" height=\"24px\"viewBox=\"0 0 24 24\"\n",
              "     width=\"24px\">\n",
              "    <g>\n",
              "        <path d=\"M19 3H5c-1.1 0-2 .9-2 2v14c0 1.1.9 2 2 2h14c1.1 0 2-.9 2-2V5c0-1.1-.9-2-2-2zM9 17H7v-7h2v7zm4 0h-2V7h2v10zm4 0h-2v-4h2v4z\"/>\n",
              "    </g>\n",
              "</svg>\n",
              "  </button>\n",
              "\n",
              "<style>\n",
              "  .colab-df-quickchart {\n",
              "      --bg-color: #E8F0FE;\n",
              "      --fill-color: #1967D2;\n",
              "      --hover-bg-color: #E2EBFA;\n",
              "      --hover-fill-color: #174EA6;\n",
              "      --disabled-fill-color: #AAA;\n",
              "      --disabled-bg-color: #DDD;\n",
              "  }\n",
              "\n",
              "  [theme=dark] .colab-df-quickchart {\n",
              "      --bg-color: #3B4455;\n",
              "      --fill-color: #D2E3FC;\n",
              "      --hover-bg-color: #434B5C;\n",
              "      --hover-fill-color: #FFFFFF;\n",
              "      --disabled-bg-color: #3B4455;\n",
              "      --disabled-fill-color: #666;\n",
              "  }\n",
              "\n",
              "  .colab-df-quickchart {\n",
              "    background-color: var(--bg-color);\n",
              "    border: none;\n",
              "    border-radius: 50%;\n",
              "    cursor: pointer;\n",
              "    display: none;\n",
              "    fill: var(--fill-color);\n",
              "    height: 32px;\n",
              "    padding: 0;\n",
              "    width: 32px;\n",
              "  }\n",
              "\n",
              "  .colab-df-quickchart:hover {\n",
              "    background-color: var(--hover-bg-color);\n",
              "    box-shadow: 0 1px 2px rgba(60, 64, 67, 0.3), 0 1px 3px 1px rgba(60, 64, 67, 0.15);\n",
              "    fill: var(--button-hover-fill-color);\n",
              "  }\n",
              "\n",
              "  .colab-df-quickchart-complete:disabled,\n",
              "  .colab-df-quickchart-complete:disabled:hover {\n",
              "    background-color: var(--disabled-bg-color);\n",
              "    fill: var(--disabled-fill-color);\n",
              "    box-shadow: none;\n",
              "  }\n",
              "\n",
              "  .colab-df-spinner {\n",
              "    border: 2px solid var(--fill-color);\n",
              "    border-color: transparent;\n",
              "    border-bottom-color: var(--fill-color);\n",
              "    animation:\n",
              "      spin 1s steps(1) infinite;\n",
              "  }\n",
              "\n",
              "  @keyframes spin {\n",
              "    0% {\n",
              "      border-color: transparent;\n",
              "      border-bottom-color: var(--fill-color);\n",
              "      border-left-color: var(--fill-color);\n",
              "    }\n",
              "    20% {\n",
              "      border-color: transparent;\n",
              "      border-left-color: var(--fill-color);\n",
              "      border-top-color: var(--fill-color);\n",
              "    }\n",
              "    30% {\n",
              "      border-color: transparent;\n",
              "      border-left-color: var(--fill-color);\n",
              "      border-top-color: var(--fill-color);\n",
              "      border-right-color: var(--fill-color);\n",
              "    }\n",
              "    40% {\n",
              "      border-color: transparent;\n",
              "      border-right-color: var(--fill-color);\n",
              "      border-top-color: var(--fill-color);\n",
              "    }\n",
              "    60% {\n",
              "      border-color: transparent;\n",
              "      border-right-color: var(--fill-color);\n",
              "    }\n",
              "    80% {\n",
              "      border-color: transparent;\n",
              "      border-right-color: var(--fill-color);\n",
              "      border-bottom-color: var(--fill-color);\n",
              "    }\n",
              "    90% {\n",
              "      border-color: transparent;\n",
              "      border-bottom-color: var(--fill-color);\n",
              "    }\n",
              "  }\n",
              "</style>\n",
              "\n",
              "  <script>\n",
              "    async function quickchart(key) {\n",
              "      const quickchartButtonEl =\n",
              "        document.querySelector('#' + key + ' button');\n",
              "      quickchartButtonEl.disabled = true;  // To prevent multiple clicks.\n",
              "      quickchartButtonEl.classList.add('colab-df-spinner');\n",
              "      try {\n",
              "        const charts = await google.colab.kernel.invokeFunction(\n",
              "            'suggestCharts', [key], {});\n",
              "      } catch (error) {\n",
              "        console.error('Error during call to suggestCharts:', error);\n",
              "      }\n",
              "      quickchartButtonEl.classList.remove('colab-df-spinner');\n",
              "      quickchartButtonEl.classList.add('colab-df-quickchart-complete');\n",
              "    }\n",
              "    (() => {\n",
              "      let quickchartButtonEl =\n",
              "        document.querySelector('#df-8a543a87-c50c-42e4-b7fa-18f9d20db0f6 button');\n",
              "      quickchartButtonEl.style.display =\n",
              "        google.colab.kernel.accessAllowed ? 'block' : 'none';\n",
              "    })();\n",
              "  </script>\n",
              "</div>\n",
              "\n",
              "    </div>\n",
              "  </div>\n"
            ],
            "application/vnd.google.colaboratory.intrinsic+json": {
              "type": "dataframe",
              "variable_name": "df"
            }
          },
          "metadata": {},
          "execution_count": 4
        }
      ]
    },
    {
      "cell_type": "markdown",
      "source": [
        "Este dataset contiene 1,048,317 registros y 19 columnas, pero solo 235,843 registros tienen datos válidos, lo que muestra una gran cantidad de valores nulos en todas las columnas, es decir, son campos vacios."
      ],
      "metadata": {
        "id": "msWmenjpggkk"
      }
    },
    {
      "cell_type": "markdown",
      "source": [
        "Adicionalmente, se identificaron varias inconsistencias que requieren corrección para garantizar un análisis preciso.\n",
        "* Se observó que las fechas y horas están en formato de texto, por lo que es necesario convertirlas a datetime para facilitar el análisis temporal de los incidentes viales.\n",
        "* Al analizar las coordenadas geográficas, se detectó que los valores de latitud y longitud están registrados con comas en lugar de puntos, lo que impide su uso adecuado en mapeo geoespacial; por ello, es fundamental corregir este formato y convertirlos a tipo numérico (float).\n",
        "* Al inspeccionar las distribuciones de los datos, se evidenciaron valores atípicos, como edades fuera de un rango lógico y coordenadas ubicadas fuera de Medellín, lo que sugiere la necesidad de una validación rigurosa para depurar información errónea y garantizar la fiabilidad del dataset."
      ],
      "metadata": {
        "id": "J5SHMy7Ggypm"
      }
    },
    {
      "cell_type": "markdown",
      "source": [
        "**Correción de caracteres extraños en nombres de columnas**"
      ],
      "metadata": {
        "id": "WWwWS6ZMiAx5"
      }
    },
    {
      "cell_type": "code",
      "source": [
        "# Limpiar nombres de columnas (corregir caracteres extraños)\n",
        "df.columns = df.columns.str.replace(\"Ã±\", \"ñ\").str.replace(\"Ã©\", \"é\").str.replace(\"Ã³\", \"ó\")"
      ],
      "metadata": {
        "id": "q5EAsu5bfeZZ"
      },
      "execution_count": 5,
      "outputs": []
    },
    {
      "cell_type": "code",
      "source": [
        "print(df.columns)"
      ],
      "metadata": {
        "colab": {
          "base_uri": "https://localhost:8080/"
        },
        "id": "pc33OzOjh2e7",
        "outputId": "69dcfdc7-57d6-422d-9f21-e82a8f0e2ca2"
      },
      "execution_count": 6,
      "outputs": [
        {
          "output_type": "stream",
          "name": "stdout",
          "text": [
            "Index(['Gravedad_victima', 'Fecha_incidente', 'Hora_incidente',\n",
            "       'Clase_incidente', 'Direccion_incidente', 'Sexo', 'Edad', 'Condicion',\n",
            "       'Mes', 'Dia', 'Num_dia', 'Hora', 'Grupo_edad', 'Año', 'Radicado',\n",
            "       'Latitud', 'Longitud', 'Comuna', 'Barrio'],\n",
            "      dtype='object')\n"
          ]
        }
      ]
    },
    {
      "cell_type": "markdown",
      "source": [
        "El dataset ahora tiene 19 columnas con nombres más comprensibles y sin caracteres extraños"
      ],
      "metadata": {
        "id": "92zmCs6diWS3"
      }
    },
    {
      "cell_type": "markdown",
      "source": [
        "**Análisis de nulos**"
      ],
      "metadata": {
        "id": "te0xjvRjkhTs"
      }
    },
    {
      "cell_type": "code",
      "source": [
        "# Analizar valores nulos\n",
        "df.isnull().sum()"
      ],
      "metadata": {
        "colab": {
          "base_uri": "https://localhost:8080/",
          "height": 672
        },
        "id": "Wi3qE1W8fmnt",
        "outputId": "10428edc-6066-449b-e0b7-afb32306ae54"
      },
      "execution_count": 7,
      "outputs": [
        {
          "output_type": "execute_result",
          "data": {
            "text/plain": [
              "Gravedad_victima       812474\n",
              "Fecha_incidente        812474\n",
              "Hora_incidente         812474\n",
              "Clase_incidente        812474\n",
              "Direccion_incidente    812486\n",
              "Sexo                   812474\n",
              "Edad                   812982\n",
              "Condicion              812474\n",
              "Mes                    812474\n",
              "Dia                    812474\n",
              "Num_dia                812474\n",
              "Hora                   812474\n",
              "Grupo_edad             812474\n",
              "Año                    812474\n",
              "Radicado               812479\n",
              "Latitud                812474\n",
              "Longitud               812474\n",
              "Comuna                 812474\n",
              "Barrio                 813092\n",
              "dtype: int64"
            ],
            "text/html": [
              "<div>\n",
              "<style scoped>\n",
              "    .dataframe tbody tr th:only-of-type {\n",
              "        vertical-align: middle;\n",
              "    }\n",
              "\n",
              "    .dataframe tbody tr th {\n",
              "        vertical-align: top;\n",
              "    }\n",
              "\n",
              "    .dataframe thead th {\n",
              "        text-align: right;\n",
              "    }\n",
              "</style>\n",
              "<table border=\"1\" class=\"dataframe\">\n",
              "  <thead>\n",
              "    <tr style=\"text-align: right;\">\n",
              "      <th></th>\n",
              "      <th>0</th>\n",
              "    </tr>\n",
              "  </thead>\n",
              "  <tbody>\n",
              "    <tr>\n",
              "      <th>Gravedad_victima</th>\n",
              "      <td>812474</td>\n",
              "    </tr>\n",
              "    <tr>\n",
              "      <th>Fecha_incidente</th>\n",
              "      <td>812474</td>\n",
              "    </tr>\n",
              "    <tr>\n",
              "      <th>Hora_incidente</th>\n",
              "      <td>812474</td>\n",
              "    </tr>\n",
              "    <tr>\n",
              "      <th>Clase_incidente</th>\n",
              "      <td>812474</td>\n",
              "    </tr>\n",
              "    <tr>\n",
              "      <th>Direccion_incidente</th>\n",
              "      <td>812486</td>\n",
              "    </tr>\n",
              "    <tr>\n",
              "      <th>Sexo</th>\n",
              "      <td>812474</td>\n",
              "    </tr>\n",
              "    <tr>\n",
              "      <th>Edad</th>\n",
              "      <td>812982</td>\n",
              "    </tr>\n",
              "    <tr>\n",
              "      <th>Condicion</th>\n",
              "      <td>812474</td>\n",
              "    </tr>\n",
              "    <tr>\n",
              "      <th>Mes</th>\n",
              "      <td>812474</td>\n",
              "    </tr>\n",
              "    <tr>\n",
              "      <th>Dia</th>\n",
              "      <td>812474</td>\n",
              "    </tr>\n",
              "    <tr>\n",
              "      <th>Num_dia</th>\n",
              "      <td>812474</td>\n",
              "    </tr>\n",
              "    <tr>\n",
              "      <th>Hora</th>\n",
              "      <td>812474</td>\n",
              "    </tr>\n",
              "    <tr>\n",
              "      <th>Grupo_edad</th>\n",
              "      <td>812474</td>\n",
              "    </tr>\n",
              "    <tr>\n",
              "      <th>Año</th>\n",
              "      <td>812474</td>\n",
              "    </tr>\n",
              "    <tr>\n",
              "      <th>Radicado</th>\n",
              "      <td>812479</td>\n",
              "    </tr>\n",
              "    <tr>\n",
              "      <th>Latitud</th>\n",
              "      <td>812474</td>\n",
              "    </tr>\n",
              "    <tr>\n",
              "      <th>Longitud</th>\n",
              "      <td>812474</td>\n",
              "    </tr>\n",
              "    <tr>\n",
              "      <th>Comuna</th>\n",
              "      <td>812474</td>\n",
              "    </tr>\n",
              "    <tr>\n",
              "      <th>Barrio</th>\n",
              "      <td>813092</td>\n",
              "    </tr>\n",
              "  </tbody>\n",
              "</table>\n",
              "</div><br><label><b>dtype:</b> int64</label>"
            ]
          },
          "metadata": {},
          "execution_count": 7
        }
      ]
    },
    {
      "cell_type": "markdown",
      "source": [
        "Este resultado muestra que más de 812,000 filas tienen valores nulos en casi todas las columnas, lo que indica que esas filas no aportan información útil y se pueden eliminar."
      ],
      "metadata": {
        "id": "vhNe0oHslDgS"
      }
    },
    {
      "cell_type": "code",
      "source": [
        "# Eliminar todas las filas que contengan cualquier valor nulo\n",
        "df = df.dropna()\n",
        "\n",
        "# Verificar que ya no haya valores nulos\n",
        "print(df.isnull().sum())\n",
        "\n",
        "# Ver el tamaño final del dataset después de eliminar los nulos\n",
        "print(f\"Tamaño final del dataset: {df.shape}\")"
      ],
      "metadata": {
        "colab": {
          "base_uri": "https://localhost:8080/"
        },
        "id": "DtkkR-zSlMVG",
        "outputId": "ebc6c1b0-9d43-4d8a-da35-e97b6aa45d0e"
      },
      "execution_count": 8,
      "outputs": [
        {
          "output_type": "stream",
          "name": "stdout",
          "text": [
            "Gravedad_victima       0\n",
            "Fecha_incidente        0\n",
            "Hora_incidente         0\n",
            "Clase_incidente        0\n",
            "Direccion_incidente    0\n",
            "Sexo                   0\n",
            "Edad                   0\n",
            "Condicion              0\n",
            "Mes                    0\n",
            "Dia                    0\n",
            "Num_dia                0\n",
            "Hora                   0\n",
            "Grupo_edad             0\n",
            "Año                    0\n",
            "Radicado               0\n",
            "Latitud                0\n",
            "Longitud               0\n",
            "Comuna                 0\n",
            "Barrio                 0\n",
            "dtype: int64\n",
            "Tamaño final del dataset: (234755, 19)\n"
          ]
        }
      ]
    },
    {
      "cell_type": "markdown",
      "source": [
        "Ya NO hay valores nulos en ninguna columna"
      ],
      "metadata": {
        "id": "wUyn3tUsmToR"
      }
    },
    {
      "cell_type": "markdown",
      "source": [
        "**Formato date a columna Fecha**"
      ],
      "metadata": {
        "id": "lHXNLZk5mYVA"
      }
    },
    {
      "cell_type": "code",
      "source": [
        "#Convertir columnas de fecha y hora\n",
        "df[\"Fecha_incidente\"] = pd.to_datetime(df[\"Fecha_incidente\"], format=\"%d/%m/%Y\", errors=\"coerce\")"
      ],
      "metadata": {
        "id": "176WP4sTmhm_"
      },
      "execution_count": 9,
      "outputs": []
    },
    {
      "cell_type": "code",
      "source": [
        "print(df.dtypes[[\"Fecha_incidente\"]])"
      ],
      "metadata": {
        "colab": {
          "base_uri": "https://localhost:8080/"
        },
        "id": "xBJt0A7JmhpC",
        "outputId": "021a9b53-d80e-403d-d577-cfdcee4926c4"
      },
      "execution_count": 10,
      "outputs": [
        {
          "output_type": "stream",
          "name": "stdout",
          "text": [
            "Fecha_incidente    datetime64[ns]\n",
            "dtype: object\n"
          ]
        }
      ]
    },
    {
      "cell_type": "markdown",
      "source": [
        "La conversión fue exitosa, lo que nos permite realizar análisis temporales"
      ],
      "metadata": {
        "id": "-mjVLgabn-D2"
      }
    },
    {
      "cell_type": "markdown",
      "source": [
        "**Duplicados**"
      ],
      "metadata": {
        "id": "L6l37eNloZsU"
      }
    },
    {
      "cell_type": "code",
      "source": [
        "# Contar cuántos duplicados hay antes de eliminarlos\n",
        "duplicados_antes = df.duplicated().sum()\n",
        "print(f\"Cantidad de filas duplicadas antes de eliminar: {duplicados_antes}\")\n",
        "\n",
        "# Eliminar duplicados\n",
        "df.drop_duplicates(inplace=True)\n",
        "\n",
        "# Contar cuántos duplicados quedan después\n",
        "duplicados_despues = df.duplicated().sum()\n",
        "print(f\"Cantidad de filas duplicadas después de eliminar: {duplicados_despues}\")\n",
        "\n",
        "# Verificar el nuevo tamaño del dataset\n",
        "print(f\"Tamaño final del dataset después de eliminar duplicados: {df.shape}\")"
      ],
      "metadata": {
        "colab": {
          "base_uri": "https://localhost:8080/"
        },
        "id": "fCQaSLVrodxq",
        "outputId": "96e6be47-97b3-4cea-fa7c-c526762d9b46"
      },
      "execution_count": 11,
      "outputs": [
        {
          "output_type": "stream",
          "name": "stdout",
          "text": [
            "Cantidad de filas duplicadas antes de eliminar: 182\n",
            "Cantidad de filas duplicadas después de eliminar: 0\n",
            "Tamaño final del dataset después de eliminar duplicados: (234573, 19)\n"
          ]
        }
      ]
    },
    {
      "cell_type": "markdown",
      "source": [
        "* Se detectaron y eliminaron 182 registros duplicados.\n",
        "* El dataset ahora tiene 234,573 registros únicos."
      ],
      "metadata": {
        "id": "EaAVWF3Fn2FO"
      }
    },
    {
      "cell_type": "markdown",
      "source": [
        "**Corección de coordenadas**"
      ],
      "metadata": {
        "id": "H_RO7XwYnsPu"
      }
    },
    {
      "cell_type": "code",
      "source": [
        "# Reemplazar \"Sin Inf\" con NaN\n",
        "df[\"Latitud\"] = df[\"Latitud\"].replace(\"Sin Inf\", np.nan)\n",
        "df[\"Longitud\"] = df[\"Longitud\"].replace(\"Sin Inf\", np.nan)\n",
        "\n",
        "# Contar valores nulos después de la corrección\n",
        "print(df[[\"Latitud\", \"Longitud\"]].isnull().sum())\n",
        "\n",
        "# Eliminar registros con valores nulos en Latitud o Longitud\n",
        "df = df.dropna(subset=[\"Latitud\", \"Longitud\"])\n",
        "\n",
        "# Verificar que ya no existan valores incorrectos\n",
        "print(df[[\"Latitud\", \"Longitud\"]].isnull().sum())\n"
      ],
      "metadata": {
        "colab": {
          "base_uri": "https://localhost:8080/"
        },
        "id": "unfNI9ytmeC7",
        "outputId": "690a88eb-da55-4bb6-ee54-cc2a18c3ac19"
      },
      "execution_count": 12,
      "outputs": [
        {
          "output_type": "stream",
          "name": "stdout",
          "text": [
            "Latitud     20163\n",
            "Longitud    20163\n",
            "dtype: int64\n",
            "Latitud     0\n",
            "Longitud    0\n",
            "dtype: int64\n"
          ]
        }
      ]
    },
    {
      "cell_type": "code",
      "source": [
        "df[\"Latitud\"] = df[\"Latitud\"].astype(str).str.replace(\",\", \".\").astype(float)\n",
        "df[\"Longitud\"] = df[\"Longitud\"].astype(str).str.replace(\",\", \".\").astype(float)\n",
        "\n",
        "# Verificar que la conversión fue exitosa\n",
        "print(df.dtypes[[\"Latitud\", \"Longitud\"]])"
      ],
      "metadata": {
        "colab": {
          "base_uri": "https://localhost:8080/"
        },
        "id": "dQvrD9k4mOyk",
        "outputId": "11c06b29-0187-4ebb-b78b-518fe7e4b4fa"
      },
      "execution_count": 13,
      "outputs": [
        {
          "output_type": "stream",
          "name": "stdout",
          "text": [
            "Latitud     float64\n",
            "Longitud    float64\n",
            "dtype: object\n"
          ]
        }
      ]
    },
    {
      "cell_type": "code",
      "source": [
        "# Verificar el nuevo tamaño del dataset\n",
        "print(f\"Tamaño final del dataset después de eliminar duplicados: {df.shape}\")"
      ],
      "metadata": {
        "colab": {
          "base_uri": "https://localhost:8080/"
        },
        "id": "BsGUM_Ghn-av",
        "outputId": "09ccdce0-49f0-443b-fd89-fa23ea5ccdcf"
      },
      "execution_count": 14,
      "outputs": [
        {
          "output_type": "stream",
          "name": "stdout",
          "text": [
            "Tamaño final del dataset después de eliminar duplicados: (214410, 19)\n"
          ]
        }
      ]
    },
    {
      "cell_type": "markdown",
      "source": [
        "* Se eliminaron 20,172 registros con valores inválidos en Latitud y Longitud.\n",
        "* Las coordenadas ya están correctamente en formato float64, lo que significa que ahora pueden usarse en análisis"
      ],
      "metadata": {
        "id": "tAPwnc7AnYxk"
      }
    },
    {
      "cell_type": "markdown",
      "source": [
        "**Accidentes por año**"
      ],
      "metadata": {
        "id": "G1LdMJ-Dm0e5"
      }
    },
    {
      "cell_type": "code",
      "source": [
        "print(f\"Rango de fechas: {df['Fecha_incidente'].min()} → {df['Fecha_incidente'].max()}\")"
      ],
      "metadata": {
        "colab": {
          "base_uri": "https://localhost:8080/"
        },
        "id": "Y4FgAPeRmO0Y",
        "outputId": "0dc6df70-8a91-4774-888f-6618238a832e"
      },
      "execution_count": 15,
      "outputs": [
        {
          "output_type": "stream",
          "name": "stdout",
          "text": [
            "Rango de fechas: 2014-01-01 00:00:00 → 2021-09-30 00:00:00\n"
          ]
        }
      ]
    },
    {
      "cell_type": "code",
      "source": [
        "df[\"Año\"] = df[\"Fecha_incidente\"].dt.year  # Extraer el año\n",
        "print(df[\"Año\"].value_counts().sort_index())"
      ],
      "metadata": {
        "colab": {
          "base_uri": "https://localhost:8080/"
        },
        "id": "McBEbiptowwk",
        "outputId": "fb254b18-22f6-417f-c9a0-a3193b63b1b8"
      },
      "execution_count": 16,
      "outputs": [
        {
          "output_type": "stream",
          "name": "stdout",
          "text": [
            "Año\n",
            "2014    28445\n",
            "2015    29655\n",
            "2016    30832\n",
            "2017    28761\n",
            "2018    26273\n",
            "2019    29143\n",
            "2020    21879\n",
            "2021    19422\n",
            "Name: count, dtype: int64\n"
          ]
        }
      ]
    },
    {
      "cell_type": "code",
      "source": [
        "# Contar accidentes por año\n",
        "accidentes_por_año = df[\"Año\"].value_counts().sort_index()\n",
        "\n",
        "# Graficar\n",
        "plt.figure(figsize=(10, 5))\n",
        "sns.barplot(x=accidentes_por_año.index, y=accidentes_por_año.values, palette=\"Reds\")\n",
        "plt.xlabel(\"Año\")\n",
        "plt.ylabel(\"Número de Accidentes\")\n",
        "plt.title(\"Evolución de Accidentes en Medellín por Año\")\n",
        "plt.xticks(rotation=45)\n",
        "plt.show()"
      ],
      "metadata": {
        "colab": {
          "base_uri": "https://localhost:8080/",
          "height": 613
        },
        "id": "F3tszvfPtz91",
        "outputId": "273c66d1-fcb4-4ac1-f3c0-ec75e6d0f3da"
      },
      "execution_count": 17,
      "outputs": [
        {
          "output_type": "stream",
          "name": "stderr",
          "text": [
            "<ipython-input-17-a47419bca0d3>:6: FutureWarning: \n",
            "\n",
            "Passing `palette` without assigning `hue` is deprecated and will be removed in v0.14.0. Assign the `x` variable to `hue` and set `legend=False` for the same effect.\n",
            "\n",
            "  sns.barplot(x=accidentes_por_año.index, y=accidentes_por_año.values, palette=\"Reds\")\n"
          ]
        },
        {
          "output_type": "display_data",
          "data": {
            "text/plain": [
              "<Figure size 1000x500 with 1 Axes>"
            ],
            "image/png": "[encoded data removed]"
          },
          "metadata": {}
        }
      ]
    },
    {
      "cell_type": "markdown",
      "source": [
        "La accidentalidad fue alta y estable hasta 2019, con una disminución significativa en los años de pandemia.\n",
        "\n",
        "* Pico en 2016: mayor cantidad de accidentes (30,832).\n",
        "* Tendencia estable 2014-2019: accidentes oscilaron entre 26,273 y 30,832.\n",
        "* Caída en 2020-2021: Reducción drástica (21,879 en 2020 y 19,422 hasta septiembre de 2021), probablemente debido a la pandemia y restricciones de movilidad."
      ],
      "metadata": {
        "id": "fso-BEIQo8wG"
      }
    },
    {
      "cell_type": "markdown",
      "source": [
        "**Tratamiento de coordenadas por fuera de Medellín**"
      ],
      "metadata": {
        "id": "1AEhjdwnp5Y_"
      }
    },
    {
      "cell_type": "code",
      "source": [
        "# Rango válido de coordenadas para Medellín\n",
        "lat_min, lat_max = 6.1, 6.5\n",
        "lon_min, lon_max = -75.7, -75.4\n",
        "\n",
        "# Filtrar solo registros dentro del rango esperado\n",
        "df_filtrado = df[(df[\"Latitud\"] >= lat_min) & (df[\"Latitud\"] <= lat_max) &\n",
        "                 (df[\"Longitud\"] >= lon_min) & (df[\"Longitud\"] <= lon_max)]\n",
        "\n",
        "# Verificar cuántos registros fueron eliminados\n",
        "registros_eliminados = df.shape[0] - df_filtrado.shape[0]\n",
        "\n",
        "# Mostrar resultados\n",
        "print(f\"Registros originales: {df.shape[0]}\")\n",
        "print(f\"Registros después de filtrar coordenadas inválidas: {df_filtrado.shape[0]}\")\n",
        "print(f\"Registros eliminados por estar fuera de Medellín: {registros_eliminados}\")\n",
        "\n",
        "# Guardar el dataset filtrado si es necesario\n",
        "df = df_filtrado\n"
      ],
      "metadata": {
        "colab": {
          "base_uri": "https://localhost:8080/"
        },
        "id": "G4q-Lt8Lp_ih",
        "outputId": "ca66cb07-70a3-4abc-be5d-723c329aa713"
      },
      "execution_count": 18,
      "outputs": [
        {
          "output_type": "stream",
          "name": "stdout",
          "text": [
            "Registros originales: 214410\n",
            "Registros después de filtrar coordenadas inválidas: 211481\n",
            "Registros eliminados por estar fuera de Medellín: 2929\n"
          ]
        }
      ]
    },
    {
      "cell_type": "markdown",
      "source": [
        "* Se eliminaron 2,929 registros con coordenadas fuera de Medellín, dejando 211,481 accidentes válidos.\n",
        "* Criterio usado: latitud entre 6.1 y 6.5, Longitud entre -75.7 y -75.4, basado en la ubicación geográfica de Medellín.\n",
        "* Importancia: esto asegura que los análisis y mapas reflejen solo accidentes dentro de la ciudad, evitando datos erróneos."
      ],
      "metadata": {
        "id": "jM51jQJZqbx1"
      }
    },
    {
      "cell_type": "code",
      "source": [
        "# Estadísticas descriptivas\n",
        "df.describe()"
      ],
      "metadata": {
        "colab": {
          "base_uri": "https://localhost:8080/",
          "height": 297
        },
        "id": "JWffvospfmsK",
        "outputId": "cf617a2f-1959-47ea-f74f-1cfd766b6ff1"
      },
      "execution_count": 19,
      "outputs": [
        {
          "output_type": "execute_result",
          "data": {
            "text/plain": [
              "                     Fecha_incidente        Num_dia            Año  \\\n",
              "count                         211481  211481.000000  211481.000000   \n",
              "mean   2017-09-07 10:42:12.550914560      15.711728    2017.193947   \n",
              "min              2014-01-01 00:00:00       0.000000    2014.000000   \n",
              "25%              2015-10-27 00:00:00       8.000000    2015.000000   \n",
              "50%              2017-08-03 00:00:00      16.000000    2017.000000   \n",
              "75%              2019-07-26 00:00:00      23.000000    2019.000000   \n",
              "max              2021-08-31 00:00:00      31.000000    2021.000000   \n",
              "std                              NaN       8.756226       2.177193   \n",
              "\n",
              "             Latitud       Longitud  \n",
              "count  211481.000000  211481.000000  \n",
              "mean        6.254292     -75.576818  \n",
              "min         6.152835     -75.696289  \n",
              "25%         6.235806     -75.587663  \n",
              "50%         6.254652     -75.574449  \n",
              "75%         6.276171     -75.562700  \n",
              "max         6.349830     -75.452413  \n",
              "std         0.028826       0.020818  "
            ],
            "text/html": [
              "\n",
              "  <div id=\"df-99e4e5c7-6500-4689-868e-c722a35dfff4\" class=\"colab-df-container\">\n",
              "    <div>\n",
              "<style scoped>\n",
              "    .dataframe tbody tr th:only-of-type {\n",
              "        vertical-align: middle;\n",
              "    }\n",
              "\n",
              "    .dataframe tbody tr th {\n",
              "        vertical-align: top;\n",
              "    }\n",
              "\n",
              "    .dataframe thead th {\n",
              "        text-align: right;\n",
              "    }\n",
              "</style>\n",
              "<table border=\"1\" class=\"dataframe\">\n",
              "  <thead>\n",
              "    <tr style=\"text-align: right;\">\n",
              "      <th></th>\n",
              "      <th>Fecha_incidente</th>\n",
              "      <th>Num_dia</th>\n",
              "      <th>Año</th>\n",
              "      <th>Latitud</th>\n",
              "      <th>Longitud</th>\n",
              "    </tr>\n",
              "  </thead>\n",
              "  <tbody>\n",
              "    <tr>\n",
              "      <th>count</th>\n",
              "      <td>211481</td>\n",
              "      <td>211481.000000</td>\n",
              "      <td>211481.000000</td>\n",
              "      <td>211481.000000</td>\n",
              "      <td>211481.000000</td>\n",
              "    </tr>\n",
              "    <tr>\n",
              "      <th>mean</th>\n",
              "      <td>2017-09-07 10:42:12.550914560</td>\n",
              "      <td>15.711728</td>\n",
              "      <td>2017.193947</td>\n",
              "      <td>6.254292</td>\n",
              "      <td>-75.576818</td>\n",
              "    </tr>\n",
              "    <tr>\n",
              "      <th>min</th>\n",
              "      <td>2014-01-01 00:00:00</td>\n",
              "      <td>0.000000</td>\n",
              "      <td>2014.000000</td>\n",
              "      <td>6.152835</td>\n",
              "      <td>-75.696289</td>\n",
              "    </tr>\n",
              "    <tr>\n",
              "      <th>25%</th>\n",
              "      <td>2015-10-27 00:00:00</td>\n",
              "      <td>8.000000</td>\n",
              "      <td>2015.000000</td>\n",
              "      <td>6.235806</td>\n",
              "      <td>-75.587663</td>\n",
              "    </tr>\n",
              "    <tr>\n",
              "      <th>50%</th>\n",
              "      <td>2017-08-03 00:00:00</td>\n",
              "      <td>16.000000</td>\n",
              "      <td>2017.000000</td>\n",
              "      <td>6.254652</td>\n",
              "      <td>-75.574449</td>\n",
              "    </tr>\n",
              "    <tr>\n",
              "      <th>75%</th>\n",
              "      <td>2019-07-26 00:00:00</td>\n",
              "      <td>23.000000</td>\n",
              "      <td>2019.000000</td>\n",
              "      <td>6.276171</td>\n",
              "      <td>-75.562700</td>\n",
              "    </tr>\n",
              "    <tr>\n",
              "      <th>max</th>\n",
              "      <td>2021-08-31 00:00:00</td>\n",
              "      <td>31.000000</td>\n",
              "      <td>2021.000000</td>\n",
              "      <td>6.349830</td>\n",
              "      <td>-75.452413</td>\n",
              "    </tr>\n",
              "    <tr>\n",
              "      <th>std</th>\n",
              "      <td>NaN</td>\n",
              "      <td>8.756226</td>\n",
              "      <td>2.177193</td>\n",
              "      <td>0.028826</td>\n",
              "      <td>0.020818</td>\n",
              "    </tr>\n",
              "  </tbody>\n",
              "</table>\n",
              "</div>\n",
              "    <div class=\"colab-df-buttons\">\n",
              "\n",
              "  <div class=\"colab-df-container\">\n",
              "    <button class=\"colab-df-convert\" onclick=\"convertToInteractive('df-99e4e5c7-6500-4689-868e-c722a35dfff4')\"\n",
              "            title=\"Convert this dataframe to an interactive table.\"\n",
              "            style=\"display:none;\">\n",
              "\n",
              "  <svg xmlns=\"http://www.w3.org/2000/svg\" height=\"24px\" viewBox=\"0 -960 960 960\">\n",
              "    <path d=\"M120-120v-720h720v720H120Zm60-500h600v-160H180v160Zm220 220h160v-160H400v160Zm0 220h160v-160H400v160ZM180-400h160v-160H180v160Zm440 0h160v-160H620v160ZM180-180h160v-160H180v160Zm440 0h160v-160H620v160Z\"/>\n",
              "  </svg>\n",
              "    </button>\n",
              "\n",
              "  <style>\n",
              "    .colab-df-container {\n",
              "      display:flex;\n",
              "      gap: 12px;\n",
              "    }\n",
              "\n",
              "    .colab-df-convert {\n",
              "      background-color: #E8F0FE;\n",
              "      border: none;\n",
              "      border-radius: 50%;\n",
              "      cursor: pointer;\n",
              "      display: none;\n",
              "      fill: #1967D2;\n",
              "      height: 32px;\n",
              "      padding: 0 0 0 0;\n",
              "      width: 32px;\n",
              "    }\n",
              "\n",
              "    .colab-df-convert:hover {\n",
              "      background-color: #E2EBFA;\n",
              "      box-shadow: 0px 1px 2px rgba(60, 64, 67, 0.3), 0px 1px 3px 1px rgba(60, 64, 67, 0.15);\n",
              "      fill: #174EA6;\n",
              "    }\n",
              "\n",
              "    .colab-df-buttons div {\n",
              "      margin-bottom: 4px;\n",
              "    }\n",
              "\n",
              "    [theme=dark] .colab-df-convert {\n",
              "      background-color: #3B4455;\n",
              "      fill: #D2E3FC;\n",
              "    }\n",
              "\n",
              "    [theme=dark] .colab-df-convert:hover {\n",
              "      background-color: #434B5C;\n",
              "      box-shadow: 0px 1px 3px 1px rgba(0, 0, 0, 0.15);\n",
              "      filter: drop-shadow(0px 1px 2px rgba(0, 0, 0, 0.3));\n",
              "      fill: #FFFFFF;\n",
              "    }\n",
              "  </style>\n",
              "\n",
              "    <script>\n",
              "      const buttonEl =\n",
              "        document.querySelector('#df-99e4e5c7-6500-4689-868e-c722a35dfff4 button.colab-df-convert');\n",
              "      buttonEl.style.display =\n",
              "        google.colab.kernel.accessAllowed ? 'block' : 'none';\n",
              "\n",
              "      async function convertToInteractive(key) {\n",
              "        const element = document.querySelector('#df-99e4e5c7-6500-4689-868e-c722a35dfff4');\n",
              "        const dataTable =\n",
              "          await google.colab.kernel.invokeFunction('convertToInteractive',\n",
              "                                                    [key], {});\n",
              "        if (!dataTable) return;\n",
              "\n",
              "        const docLinkHtml = 'Like what you see? Visit the ' +\n",
              "          '<a target=\"_blank\" href=https://colab.research.google.com/notebooks/data_table.ipynb>data table notebook</a>'\n",
              "          + ' to learn more about interactive tables.';\n",
              "        element.innerHTML = '';\n",
              "        dataTable['output_type'] = 'display_data';\n",
              "        await google.colab.output.renderOutput(dataTable, element);\n",
              "        const docLink = document.createElement('div');\n",
              "        docLink.innerHTML = docLinkHtml;\n",
              "        element.appendChild(docLink);\n",
              "      }\n",
              "    </script>\n",
              "  </div>\n",
              "\n",
              "\n",
              "<div id=\"df-5fae3577-81f9-48fe-afe9-e55a750ef787\">\n",
              "  <button class=\"colab-df-quickchart\" onclick=\"quickchart('df-5fae3577-81f9-48fe-afe9-e55a750ef787')\"\n",
              "            title=\"Suggest charts\"\n",
              "            style=\"display:none;\">\n",
              "\n",
              "<svg xmlns=\"http://www.w3.org/2000/svg\" height=\"24px\"viewBox=\"0 0 24 24\"\n",
              "     width=\"24px\">\n",
              "    <g>\n",
              "        <path d=\"M19 3H5c-1.1 0-2 .9-2 2v14c0 1.1.9 2 2 2h14c1.1 0 2-.9 2-2V5c0-1.1-.9-2-2-2zM9 17H7v-7h2v7zm4 0h-2V7h2v10zm4 0h-2v-4h2v4z\"/>\n",
              "    </g>\n",
              "</svg>\n",
              "  </button>\n",
              "\n",
              "<style>\n",
              "  .colab-df-quickchart {\n",
              "      --bg-color: #E8F0FE;\n",
              "      --fill-color: #1967D2;\n",
              "      --hover-bg-color: #E2EBFA;\n",
              "      --hover-fill-color: #174EA6;\n",
              "      --disabled-fill-color: #AAA;\n",
              "      --disabled-bg-color: #DDD;\n",
              "  }\n",
              "\n",
              "  [theme=dark] .colab-df-quickchart {\n",
              "      --bg-color: #3B4455;\n",
              "      --fill-color: #D2E3FC;\n",
              "      --hover-bg-color: #434B5C;\n",
              "      --hover-fill-color: #FFFFFF;\n",
              "      --disabled-bg-color: #3B4455;\n",
              "      --disabled-fill-color: #666;\n",
              "  }\n",
              "\n",
              "  .colab-df-quickchart {\n",
              "    background-color: var(--bg-color);\n",
              "    border: none;\n",
              "    border-radius: 50%;\n",
              "    cursor: pointer;\n",
              "    display: none;\n",
              "    fill: var(--fill-color);\n",
              "    height: 32px;\n",
              "    padding: 0;\n",
              "    width: 32px;\n",
              "  }\n",
              "\n",
              "  .colab-df-quickchart:hover {\n",
              "    background-color: var(--hover-bg-color);\n",
              "    box-shadow: 0 1px 2px rgba(60, 64, 67, 0.3), 0 1px 3px 1px rgba(60, 64, 67, 0.15);\n",
              "    fill: var(--button-hover-fill-color);\n",
              "  }\n",
              "\n",
              "  .colab-df-quickchart-complete:disabled,\n",
              "  .colab-df-quickchart-complete:disabled:hover {\n",
              "    background-color: var(--disabled-bg-color);\n",
              "    fill: var(--disabled-fill-color);\n",
              "    box-shadow: none;\n",
              "  }\n",
              "\n",
              "  .colab-df-spinner {\n",
              "    border: 2px solid var(--fill-color);\n",
              "    border-color: transparent;\n",
              "    border-bottom-color: var(--fill-color);\n",
              "    animation:\n",
              "      spin 1s steps(1) infinite;\n",
              "  }\n",
              "\n",
              "  @keyframes spin {\n",
              "    0% {\n",
              "      border-color: transparent;\n",
              "      border-bottom-color: var(--fill-color);\n",
              "      border-left-color: var(--fill-color);\n",
              "    }\n",
              "    20% {\n",
              "      border-color: transparent;\n",
              "      border-left-color: var(--fill-color);\n",
              "      border-top-color: var(--fill-color);\n",
              "    }\n",
              "    30% {\n",
              "      border-color: transparent;\n",
              "      border-left-color: var(--fill-color);\n",
              "      border-top-color: var(--fill-color);\n",
              "      border-right-color: var(--fill-color);\n",
              "    }\n",
              "    40% {\n",
              "      border-color: transparent;\n",
              "      border-right-color: var(--fill-color);\n",
              "      border-top-color: var(--fill-color);\n",
              "    }\n",
              "    60% {\n",
              "      border-color: transparent;\n",
              "      border-right-color: var(--fill-color);\n",
              "    }\n",
              "    80% {\n",
              "      border-color: transparent;\n",
              "      border-right-color: var(--fill-color);\n",
              "      border-bottom-color: var(--fill-color);\n",
              "    }\n",
              "    90% {\n",
              "      border-color: transparent;\n",
              "      border-bottom-color: var(--fill-color);\n",
              "    }\n",
              "  }\n",
              "</style>\n",
              "\n",
              "  <script>\n",
              "    async function quickchart(key) {\n",
              "      const quickchartButtonEl =\n",
              "        document.querySelector('#' + key + ' button');\n",
              "      quickchartButtonEl.disabled = true;  // To prevent multiple clicks.\n",
              "      quickchartButtonEl.classList.add('colab-df-spinner');\n",
              "      try {\n",
              "        const charts = await google.colab.kernel.invokeFunction(\n",
              "            'suggestCharts', [key], {});\n",
              "      } catch (error) {\n",
              "        console.error('Error during call to suggestCharts:', error);\n",
              "      }\n",
              "      quickchartButtonEl.classList.remove('colab-df-spinner');\n",
              "      quickchartButtonEl.classList.add('colab-df-quickchart-complete');\n",
              "    }\n",
              "    (() => {\n",
              "      let quickchartButtonEl =\n",
              "        document.querySelector('#df-5fae3577-81f9-48fe-afe9-e55a750ef787 button');\n",
              "      quickchartButtonEl.style.display =\n",
              "        google.colab.kernel.accessAllowed ? 'block' : 'none';\n",
              "    })();\n",
              "  </script>\n",
              "</div>\n",
              "\n",
              "    </div>\n",
              "  </div>\n"
            ],
            "application/vnd.google.colaboratory.intrinsic+json": {
              "type": "dataframe",
              "summary": "{\n  \"name\": \"df\",\n  \"rows\": 8,\n  \"fields\": [\n    {\n      \"column\": \"Fecha_incidente\",\n      \"properties\": {\n        \"dtype\": \"date\",\n        \"min\": \"1970-01-01 00:00:00.000211481\",\n        \"max\": \"2021-08-31 00:00:00\",\n        \"num_unique_values\": 7,\n        \"samples\": [\n          \"211481\",\n          \"2017-09-07 10:42:12.550914560\",\n          \"2019-07-26 00:00:00\"\n        ],\n        \"semantic_type\": \"\",\n        \"description\": \"\"\n      }\n    },\n    {\n      \"column\": \"Num_dia\",\n      \"properties\": {\n        \"dtype\": \"number\",\n        \"std\": 74764.64978812107,\n        \"min\": 0.0,\n        \"max\": 211481.0,\n        \"num_unique_values\": 8,\n        \"samples\": [\n          15.711728240362019,\n          23.0,\n          211481.0\n        ],\n        \"semantic_type\": \"\",\n        \"description\": \"\"\n      }\n    },\n    {\n      \"column\": \"A\\u00f1o\",\n      \"properties\": {\n        \"dtype\": \"number\",\n        \"std\": 74161.76313518705,\n        \"min\": 2.177193080593896,\n        \"max\": 211481.0,\n        \"num_unique_values\": 8,\n        \"samples\": [\n          2017.1939465011042,\n          2019.0,\n          211481.0\n        ],\n        \"semantic_type\": \"\",\n        \"description\": \"\"\n      }\n    },\n    {\n      \"column\": \"Latitud\",\n      \"properties\": {\n        \"dtype\": \"number\",\n        \"std\": 74767.92794460758,\n        \"min\": 0.028826283325439083,\n        \"max\": 211481.0,\n        \"num_unique_values\": 8,\n        \"samples\": [\n          6.2542916519188205,\n          6.276170627,\n          211481.0\n        ],\n        \"semantic_type\": \"\",\n        \"description\": \"\"\n      }\n    },\n    {\n      \"column\": \"Longitud\",\n      \"properties\": {\n        \"dtype\": \"number\",\n        \"std\": 74792.73092294304,\n        \"min\": -75.69628862,\n        \"max\": 211481.0,\n        \"num_unique_values\": 8,\n        \"samples\": [\n          -75.57681775860163,\n          -75.56270023,\n          211481.0\n        ],\n        \"semantic_type\": \"\",\n        \"description\": \"\"\n      }\n    }\n  ]\n}"
            }
          },
          "metadata": {},
          "execution_count": 19
        }
      ]
    },
    {
      "cell_type": "markdown",
      "source": [
        "* Periodo de los datos:\n",
        "\n",
        " * Rango de fechas: Accidentes registrados entre 1 de enero de 2014 y 31 de agosto de 2021.\n",
        " * Promedio de fechas: La mayoría de los accidentes ocurrieron en torno a septiembre de 2017.\n",
        "* Distribución por día del mes (Num_dia)\n",
        "\n",
        " * Promedio: Día 15-16 → los accidentes están distribuidos de manera uniforme a lo largo del mes.\n",
        "* Mínimo = 0: Puede ser un error de datos o un marcador incorrecto.\n",
        "* Distribución Geoespacial (Latitud, Longitud)\n",
        "\n",
        " * Rango de coordenadas: Entre 6.152835 y 6.349830 (Latitud) y -75.696289 y -75.452413 (Longitud).\n",
        " * Media de ubicación: Aproximadamente en 6.2543, -75.5768, lo que coincide con la zona céntrica de Medellín.\n",
        "* Desviaciones Estándar (std)\n",
        "\n",
        " * Latitud y Longitud tienen una dispersión baja (0.0288 y 0.0208 respectivamente), lo que indica que la mayoría de los accidentes están concentrados en un área específica."
      ],
      "metadata": {
        "id": "0Ve8rfaprKwb"
      }
    },
    {
      "cell_type": "code",
      "source": [
        "# Visualización de datos\n",
        "plt.figure(figsize=(12, 6))\n",
        "sns.countplot(y=df[\"Gravedad_victima\"], order=df[\"Gravedad_victima\"].value_counts().index, palette=\"coolwarm\")\n",
        "plt.title(\"Distribución de Gravedad de Víctimas\")\n",
        "plt.show()"
      ],
      "metadata": {
        "colab": {
          "base_uri": "https://localhost:8080/",
          "height": 669
        },
        "id": "SIe_TZDwfmuf",
        "outputId": "2577164d-5f0a-46b3-e29b-00b5547278ca"
      },
      "execution_count": 20,
      "outputs": [
        {
          "output_type": "stream",
          "name": "stderr",
          "text": [
            "<ipython-input-20-cf6b3862e2ff>:3: FutureWarning: \n",
            "\n",
            "Passing `palette` without assigning `hue` is deprecated and will be removed in v0.14.0. Assign the `y` variable to `hue` and set `legend=False` for the same effect.\n",
            "\n",
            "  sns.countplot(y=df[\"Gravedad_victima\"], order=df[\"Gravedad_victima\"].value_counts().index, palette=\"coolwarm\")\n"
          ]
        },
        {
          "output_type": "display_data",
          "data": {
            "text/plain": [
              "<Figure size 1200x600 with 1 Axes>"
            ],
            "image/png": "[encoded data removed]"
          },
          "metadata": {}
        }
      ]
    },
    {
      "cell_type": "markdown",
      "source": [
        "La gran mayoría de los registros corresponden a heridos, mientras que la cantidad de muertos es significativamente menor."
      ],
      "metadata": {
        "id": "EeVTlBhBrsTu"
      }
    },
    {
      "cell_type": "markdown",
      "source": [
        "**Mapa de calor de accidentes por comuna**"
      ],
      "metadata": {
        "id": "gAEUcNEfsg0D"
      }
    },
    {
      "cell_type": "code",
      "source": [
        "print(df[\"Comuna\"].unique())  # Ver todas las comunas para detectar errores"
      ],
      "metadata": {
        "colab": {
          "base_uri": "https://localhost:8080/"
        },
        "id": "OOIPU40ZtD0p",
        "outputId": "8e06f07b-f8f6-412c-966e-c57354462eb4"
      },
      "execution_count": 21,
      "outputs": [
        {
          "output_type": "stream",
          "name": "stdout",
          "text": [
            "['04 - Aranjuez' '01 - Popular' '16 - BelÃ©n' '10 - La Candelaria'\n",
            " '03 - Manrique' '07 - Robledo' '11 - Laureles Estadio' '14 - El Poblado'\n",
            " '15 - Guayabal' '09 - Buenos Aires' '06 - Doce de Octubre'\n",
            " '05 - Castilla' '12 - La AmÃ©rica' '08 - Villa Hermosa' '13 - San Javier'\n",
            " '60 - Corregimiento de San CristÃ³bal' '02 - Santa Cruz'\n",
            " '90 - Corregimiento de Santa Elena' '70 - Corregimiento de Altavista'\n",
            " '80 - Corregimiento de San Antonio de Prado'\n",
            " '50 - Corregimiento de San SebastiÃ¡n de Palmitas' 'Sin Inf']\n"
          ]
        }
      ]
    },
    {
      "cell_type": "code",
      "source": [
        "df[\"Comuna\"] = df[\"Comuna\"].str.replace(\"Ã©\", \"é\").str.replace(\"Ã¡\", \"á\").str.replace(\"Ã­\", \"í\").str.replace(\"Ã³\", \"ó\").str.replace(\"Ãº\", \"ú\").str.replace(\"Ã±\", \"ñ\")"
      ],
      "metadata": {
        "id": "osJ--Wi_tD3W"
      },
      "execution_count": 22,
      "outputs": []
    },
    {
      "cell_type": "code",
      "source": [
        "plt.figure(figsize=(14, 6))\n",
        "sns.countplot(y=df[\"Comuna\"], order=df[\"Comuna\"].value_counts().index, palette=\"Reds\")\n",
        "plt.title(\"Accidentes por Comuna en Medellín\")\n",
        "plt.show()"
      ],
      "metadata": {
        "colab": {
          "base_uri": "https://localhost:8080/",
          "height": 611
        },
        "id": "ybks1qBEfmw2",
        "outputId": "eb72e34c-d6bf-4218-9b46-934baca3c522"
      },
      "execution_count": 23,
      "outputs": [
        {
          "output_type": "stream",
          "name": "stderr",
          "text": [
            "<ipython-input-23-b0d78b9d3984>:2: FutureWarning: \n",
            "\n",
            "Passing `palette` without assigning `hue` is deprecated and will be removed in v0.14.0. Assign the `y` variable to `hue` and set `legend=False` for the same effect.\n",
            "\n",
            "  sns.countplot(y=df[\"Comuna\"], order=df[\"Comuna\"].value_counts().index, palette=\"Reds\")\n"
          ]
        },
        {
          "output_type": "display_data",
          "data": {
            "text/plain": [
              "<Figure size 1400x600 with 1 Axes>"
            ],
            "image/png": "[encoded data removed]"
          },
          "metadata": {}
        }
      ]
    },
    {
      "cell_type": "markdown",
      "source": [
        "* Comunas con mayor cantidad de accidentes:\n",
        " * La Candelaria (Comuna 10) lidera con la mayor cantidad de accidentes. Esto es esperable, ya que es el centro de la ciudad y tiene un alto flujo vehicular y peatonal.\n",
        " * Castilla (Comuna 5) y Laureles-Estadio (Comuna 11) también presentan un alto número de incidentes, lo que puede estar relacionado con su densidad poblacional y actividad comercial.\n",
        "* Comunas con menor cantidad de accidentes:\n",
        " * Los corregimientos (San Antonio de Prado, San Cristóbal, Altavista, Santa Elena y San Sebastián de Palmitas) tienen significativamente menos incidentes. Esto es lógico, ya que tienen menor densidad de población y tráfico en comparación con las comunas urbanas.\n",
        "* Posibles factores que influyen en la distribución:\n",
        " * Mayor tráfico y actividad económica: Las comunas con más accidentes son aquellas con más movilidad vehicular y peatonal.\n",
        " * Infraestructura vial: Comunas con más intersecciones, calles congestionadas o con deficiencias en señalización pueden tener más accidentes.\n",
        " * Condiciones geográficas: Comunas con vías más estrechas o pendientes pronunciadas podrían afectar la frecuencia de accidentes."
      ],
      "metadata": {
        "id": "1Mm6k_h1sOF8"
      }
    },
    {
      "cell_type": "markdown",
      "source": [
        "**Manejo de formatos**"
      ],
      "metadata": {
        "id": "vBjY3IlQyOC-"
      }
    },
    {
      "cell_type": "code",
      "source": [
        "# Convertir 'Edad' a número entero, reemplazando valores no numéricos con NaN\n",
        "df[\"Edad\"] = pd.to_numeric(df[\"Edad\"], errors=\"coerce\").astype(\"Int64\")\n",
        "\n",
        "# Convertir 'Num_dia' a entero\n",
        "df[\"Num_dia\"] = df[\"Num_dia\"].astype(int)\n",
        "\n",
        "# Convertir 'Hora' a entero\n",
        "df[\"Hora\"] = pd.to_numeric(df[\"Hora\"], errors=\"coerce\").astype(\"Int64\")\n",
        "\n",
        "# Verificar los cambios\n",
        "print(df.dtypes)"
      ],
      "metadata": {
        "colab": {
          "base_uri": "https://localhost:8080/"
        },
        "id": "G4EFkAnfvCjN",
        "outputId": "ee2732e2-cea5-4749-89d3-112aca2783b1"
      },
      "execution_count": 24,
      "outputs": [
        {
          "output_type": "stream",
          "name": "stdout",
          "text": [
            "Gravedad_victima               object\n",
            "Fecha_incidente        datetime64[ns]\n",
            "Hora_incidente                 object\n",
            "Clase_incidente                object\n",
            "Direccion_incidente            object\n",
            "Sexo                           object\n",
            "Edad                            Int64\n",
            "Condicion                      object\n",
            "Mes                            object\n",
            "Dia                            object\n",
            "Num_dia                         int64\n",
            "Hora                            Int64\n",
            "Grupo_edad                     object\n",
            "Año                             int32\n",
            "Radicado                       object\n",
            "Latitud                       float64\n",
            "Longitud                      float64\n",
            "Comuna                         object\n",
            "Barrio                         object\n",
            "dtype: object\n"
          ]
        }
      ]
    },
    {
      "cell_type": "markdown",
      "source": [
        "**Columnas necesarias**\n",
        "\n",
        "Estas variables ofrecen una visión integral para entender la dinámica de los accidentes y tomar decisiones informadas.\n",
        "\n",
        "* Latitud/Longitud → Para modelar los nodos de la ciudad y encontrar rutas óptimas.\n",
        "* Comuna → Para agrupar los incidentes en regiones y aplicar algoritmos de búsqueda.\n",
        "* Fecha_incidente → Para analizar patrones temporales.\n",
        "* Clase_incidente → Para clasificar los tipos de accidentes en diferentes costos en un sistema de búsqueda.\n",
        "* Gravedad_victima → Como métrica de \"costo\" en algoritmos de búsqueda informada.\n",
        "* Edad y Sexo → Si queremos un enfoque adicional en el perfil de víctimas."
      ],
      "metadata": {
        "id": "tLJxUp_ewGuX"
      }
    },
    {
      "cell_type": "code",
      "source": [
        "# Lista de columnas necesarias\n",
        "columnas_necesarias = [\n",
        "    \"Gravedad_victima\", \"Fecha_incidente\", \"Clase_incidente\", \"Direccion_incidente\",\n",
        "    \"Sexo\", \"Edad\", \"Condicion\", \"Mes\", \"Dia\", \"Num_dia\", \"Hora\", \"Grupo_edad\",\n",
        "    \"Año\", \"Radicado\", \"Latitud\", \"Longitud\", \"Comuna\", \"Barrio\"\n",
        "]\n",
        "\n",
        "# Seleccionar solo las columnas necesarias\n",
        "df = df[columnas_necesarias]\n",
        "\n",
        "# Verificar la estructura después de la selección\n",
        "print(df.info())\n"
      ],
      "metadata": {
        "colab": {
          "base_uri": "https://localhost:8080/"
        },
        "id": "jdlb2NoFxD7l",
        "outputId": "c8639dc2-90fb-459c-d6c2-60e9e0936a16"
      },
      "execution_count": 25,
      "outputs": [
        {
          "output_type": "stream",
          "name": "stdout",
          "text": [
            "<class 'pandas.core.frame.DataFrame'>\n",
            "Index: 211481 entries, 0 to 233112\n",
            "Data columns (total 18 columns):\n",
            " #   Column               Non-Null Count   Dtype         \n",
            "---  ------               --------------   -----         \n",
            " 0   Gravedad_victima     211481 non-null  object        \n",
            " 1   Fecha_incidente      211481 non-null  datetime64[ns]\n",
            " 2   Clase_incidente      211481 non-null  object        \n",
            " 3   Direccion_incidente  211481 non-null  object        \n",
            " 4   Sexo                 211481 non-null  object        \n",
            " 5   Edad                 209773 non-null  Int64         \n",
            " 6   Condicion            211481 non-null  object        \n",
            " 7   Mes                  211481 non-null  object        \n",
            " 8   Dia                  211481 non-null  object        \n",
            " 9   Num_dia              211481 non-null  int64         \n",
            " 10  Hora                 211476 non-null  Int64         \n",
            " 11  Grupo_edad           211481 non-null  object        \n",
            " 12  Año                  211481 non-null  int32         \n",
            " 13  Radicado             211481 non-null  object        \n",
            " 14  Latitud              211481 non-null  float64       \n",
            " 15  Longitud             211481 non-null  float64       \n",
            " 16  Comuna               211481 non-null  object        \n",
            " 17  Barrio               211481 non-null  object        \n",
            "dtypes: Int64(2), datetime64[ns](1), float64(2), int32(1), int64(1), object(11)\n",
            "memory usage: 30.3+ MB\n",
            "None\n"
          ]
        }
      ]
    },
    {
      "cell_type": "markdown",
      "source": [
        "## **Algoritmos de búsqueda informada - Análisis de rutas óptimas para reducir accidentes**"
      ],
      "metadata": {
        "id": "cKGK8uapxeij"
      }
    },
    {
      "cell_type": "code",
      "source": [
        "# Usar .loc para evitar el warning\n",
        "df.loc[:, \"Gravedad_victima\"] = df[\"Gravedad_victima\"].replace({\n",
        "    \"Heridos\": 1,\n",
        "    \"Muertos\": 10,\n",
        "    \"Ilesos\": 0\n",
        "}).infer_objects(copy=False)  # Aplica la sugerencia de Pandas\n",
        "\n",
        "# Convertir a tipo entero\n",
        "df[\"Gravedad_victima\"] = df[\"Gravedad_victima\"].astype(int)\n",
        "\n",
        "# Validar\n",
        "print(df[\"Gravedad_victima\"].mean())  # Confirmar que la conversión es correcta"
      ],
      "metadata": {
        "colab": {
          "base_uri": "https://localhost:8080/"
        },
        "id": "h5penqOw3wjV",
        "outputId": "4c391544-0953-403e-d1fb-6f43213c91e2"
      },
      "execution_count": 27,
      "outputs": [
        {
          "output_type": "stream",
          "name": "stdout",
          "text": [
            "1.07626217012403\n"
          ]
        },
        {
          "output_type": "stream",
          "name": "stderr",
          "text": [
            "<ipython-input-27-50ef2eea94c3>:2: FutureWarning: Downcasting behavior in `replace` is deprecated and will be removed in a future version. To retain the old behavior, explicitly call `result.infer_objects(copy=False)`. To opt-in to the future behavior, set `pd.set_option('future.no_silent_downcasting', True)`\n",
            "  df.loc[:, \"Gravedad_victima\"] = df[\"Gravedad_victima\"].replace({\n"
          ]
        }
      ]
    },
    {
      "cell_type": "markdown",
      "source": [
        "**Algoritmo A***"
      ],
      "metadata": {
        "id": "lVZo28Gygjrx"
      }
    },
    {
      "cell_type": "code",
      "source": [
        "### Cargar y preparar el dataset\n",
        "df = df[[\"Latitud\", \"Longitud\", \"Gravedad_victima\"]]\n",
        "\n",
        "# Convertir gravedad en valores numéricos (ponderación de costo)\n",
        "gravedad_dict = {\"Muerto\": 10, \"Herido\": 5, \"Ileso\": 1}\n",
        "df[\"Gravedad_victima\"] = df[\"Gravedad_victima\"].replace(gravedad_dict)\n",
        "\n",
        "### Reducir la cantidad de nodos con K-Means (agrupa por zonas representativas)\n",
        "num_clusters = 500  # Ajusta según el tamaño del dataset\n",
        "coordenadas = df[[\"Latitud\", \"Longitud\"]].values\n",
        "\n",
        "kmeans = KMeans(n_clusters=num_clusters, random_state=42, n_init=10)\n",
        "df[\"Cluster\"] = kmeans.fit_predict(coordenadas)\n",
        "\n",
        "# Obtener los centros de los clusters como nodos representativos\n",
        "df_clustered = df.groupby(\"Cluster\")[[\"Latitud\", \"Longitud\", \"Gravedad_victima\"]].mean().reset_index()\n",
        "\n",
        "# Extraer nodos como lista de coordenadas\n",
        "nodos = df_clustered[[\"Latitud\", \"Longitud\"]].values\n",
        "\n",
        "### Crear grafo optimizado con KD-Tree\n",
        "kdtree = KDTree(nodos)\n",
        "\n",
        "# Función para construir el grafo conectando solo los 5 nodos más cercanos\n",
        "def construir_grafo_optimo(nodos, df_clustered, k=5):\n",
        "    grafo = {}\n",
        "    for i, nodo in enumerate(nodos):\n",
        "        lat, lon = nodo\n",
        "        vecinos_idx = kdtree.query(nodo, k=k+1)[1][1:]  # Ignorar el mismo nodo\n",
        "        vecinos = []\n",
        "        for j in vecinos_idx:\n",
        "            vecino = tuple(nodos[j])\n",
        "            costo = 1 + df_clustered.loc[j, \"Gravedad_victima\"]  # Costo ponderado por gravedad\n",
        "            vecinos.append((vecino, costo))\n",
        "        grafo[(lat, lon)] = vecinos\n",
        "    return grafo\n",
        "\n",
        "# Construcción del grafo\n",
        "grafo_optimo = construir_grafo_optimo(nodos, df_clustered)\n",
        "\n",
        "### Implementación de A* con heurística Manhattan\n",
        "def heuristic_manhattan(node, goal):\n",
        "    return abs(node[0] - goal[0]) + abs(node[1] - goal[1])\n",
        "\n",
        "def a_star_search(graph, start, goal):\n",
        "    open_set = []\n",
        "    heapq.heappush(open_set, (0, start))\n",
        "    came_from = {}\n",
        "    cost_so_far = {start: 0}\n",
        "\n",
        "    while open_set:\n",
        "        _, current = heapq.heappop(open_set)\n",
        "\n",
        "        if current == goal:\n",
        "            break\n",
        "\n",
        "        for neighbor, cost in graph.get(current, []):\n",
        "            new_cost = cost_so_far[current] + cost\n",
        "            if neighbor not in cost_so_far or new_cost < cost_so_far[neighbor]:\n",
        "                cost_so_far[neighbor] = new_cost\n",
        "                priority = new_cost + heuristic_manhattan(neighbor, goal)\n",
        "                heapq.heappush(open_set, (priority, neighbor))\n",
        "                came_from[neighbor] = current\n",
        "\n",
        "    return came_from, cost_so_far\n",
        "\n",
        "### Ejecutar A* en Medellín\n",
        "# Definir origen y destino con coordenadas de ejemplo\n",
        "origen = tuple(nodos[0])  # Primer cluster como origen\n",
        "destino = tuple(nodos[-1])  # Último cluster como destino\n",
        "\n",
        "# Ejecutar A* para encontrar la mejor ruta\n",
        "ruta, costos = a_star_search(grafo_optimo, origen, destino)\n",
        "\n",
        "### Mostrar resultados\n",
        "# Reconstruir la ruta óptima desde el destino al origen\n",
        "def reconstruir_ruta(came_from, start, goal):\n",
        "    actual = goal\n",
        "    ruta = []\n",
        "    while actual != start:\n",
        "        ruta.append(actual)\n",
        "        actual = came_from.get(actual)\n",
        "        if actual is None:  # Si no hay ruta posible\n",
        "            return []\n",
        "    ruta.append(start)\n",
        "    return ruta[::-1]\n",
        "\n",
        "ruta_optima = reconstruir_ruta(ruta, origen, destino)\n",
        "\n",
        "print(\"Ruta óptima encontrada:\")\n",
        "print(ruta_optima if ruta_optima else \"No se encontró una ruta viable.\")\n",
        "\n",
        "print(\"Costo total de la ruta:\", costos.get(destino, \"No encontrado\"))"
      ],
      "metadata": {
        "colab": {
          "base_uri": "https://localhost:8080/"
        },
        "id": "zVF-GTBO1c52",
        "outputId": "7d9878df-6ddd-4810-b1dc-e68b74066546"
      },
      "execution_count": 27,
      "outputs": [
        {
          "output_type": "stream",
          "name": "stderr",
          "text": [
            "<ipython-input-27-752294ca5053>:6: SettingWithCopyWarning: \n",
            "A value is trying to be set on a copy of a slice from a DataFrame.\n",
            "Try using .loc[row_indexer,col_indexer] = value instead\n",
            "\n",
            "See the caveats in the documentation: https://pandas.pydata.org/pandas-docs/stable/user_guide/indexing.html#returning-a-view-versus-a-copy\n",
            "  df[\"Gravedad_victima\"] = df[\"Gravedad_victima\"].replace(gravedad_dict)\n"
          ]
        },
        {
          "output_type": "stream",
          "name": "stdout",
          "text": [
            "Ruta óptima encontrada:\n",
            "[(np.float64(6.26127704267619), np.float64(-75.56396860152381)), (np.float64(6.257888430843243), np.float64(-75.56154441379731)), (np.float64(6.253348805978963), np.float64(-75.5623616693408)), (np.float64(6.249532789872586), np.float64(-75.5602754146332)), (np.float64(6.2466836392543685), np.float64(-75.55908053))]\n",
            "Costo total de la ruta: 8.314939820041333\n"
          ]
        }
      ]
    },
    {
      "cell_type": "markdown",
      "source": [
        "Mejor ruta\n",
        "\n",
        "1. (6.261277, -75.563968) → Barrio Estadio, Comuna 11 (Laureles-Estadio). Zona con tráfico alto debido a la cercanía del estadio Atanasio Girardot.\n",
        "2. (6.257888, -75.561544) → Comuna 10 (La Candelaria, Centro de Medellín). El centro es una de las zonas con mayor siniestralidad por alta circulación de vehículos y peatones.\n",
        "3. (6.253348, -75.562361) → Barrio Boston, Comuna 10 (La Candelaria). Área con calles angostas y tráfico denso, propensa a accidentes.\n",
        "4. (6.249532, -75.560275) → Barrio Buenos Aires, Comuna 9. Conectividad importante con el Tranvía de Ayacucho.\n",
        "5. (6.246683, -75.559080) → Final en Buenos Aires, salida hacia el oriente. Área con pendientes y tráfico variado.\n",
        "\n",
        "Interpretación\n",
        "* Evita zonas con alta siniestralidad y prioriza calles con menor riesgo.\n",
        "* Se mueve desde Laureles-Estadio hacia el centro (La Candelaria) y luego hacia Buenos Aires, una ruta lógica para minimizar accidentes.\n",
        "* No sigue el camino más corto, sino el más seguro según la ponderación de accidentes."
      ],
      "metadata": {
        "id": "wS-8WfYofeoT"
      }
    },
    {
      "cell_type": "markdown",
      "source": [
        "El algoritmo A* ha identificado una ruta óptima basada en la menor siniestralidad en Medellín, considerando la cantidad y gravedad de los accidentes en cada zona. Este resultado tiene implicaciones clave para la planificación urbana, la movilidad y la seguridad vial. Algunas acciones lógicas que se pueden emprender en la realidad con base en estos resultados incluyen:\n",
        "\n",
        "* Empresas de transporte pueden rediseñar rutas de buses o camiones priorizando caminos con menor riesgo de accidentes. Impactando positivamente en la seguridad de los pasajeros y reducir costos asociados a siniestros viales.\n",
        "\n",
        "* Recomendar esta ruta a conductores y ciclistas.\n",
        "\n",
        "* Identificar los tramos donde la ruta óptima evita por alto riesgo y reforzar la señalización vial en esas áreas.\n",
        "\n",
        "* Los agentes de tránsito pueden focalizar su presencia en puntos específicos donde los conductores tienden a desviarse de la ruta segura."
      ],
      "metadata": {
        "id": "pcCEhBUQjZJ1"
      }
    },
    {
      "cell_type": "markdown",
      "source": [
        "## **Conclusiones**"
      ],
      "metadata": {
        "id": "ofyBMsJTkL98"
      }
    },
    {
      "cell_type": "markdown",
      "source": [
        "* El algoritmo A permite identificar rutas con menor siniestralidad.\n",
        "* La optimización del grafo mejora la escalabilidad del algoritmo.\n",
        "El uso de K-Means para reducir la cantidad de nodos y la implementación de KD-Tree para mejorar la búsqueda de vecinos permitió que A* sea más eficiente, incluso con un dataset de más de 200,000 registros.\n",
        "* Si bien la ruta óptima evita ciertos sectores con alta accidentabilidad, no garantiza evitar por completo todas las zonas peligrosas. Esto se debe a la disposición de las vías en la ciudad y la necesidad de conectar ciertos puntos obligatorios.\n",
        "* Los resultados obtenidos pueden ser útiles en la planificación de rutas para el transporte público, la reestructuración del tráfico, la ubicación de patrullajes de tránsito y la implementación de señalización en puntos críticos."
      ],
      "metadata": {
        "id": "_LHraBeOkQDZ"
      }
    },
    {
      "cell_type": "markdown",
      "source": [
        "## **Posibles Mejoras**"
      ],
      "metadata": {
        "id": "6lcRUokIlEqT"
      }
    },
    {
      "cell_type": "markdown",
      "source": [
        "* Permitir que el usuario ingrese coordenadas específicas de origen y destino.\n",
        "* Mayor precisión en la ponderación de costos. Actualmente, la gravedad del accidente se pondera de manera sencilla (10 para muertos, 5 para heridos, 1 para ilesos). Se podría hacer un análisis más detallado para mejorar la calibración de estos valores, por ejemplo, integrando datos de intensidad del tráfico o condiciones climáticas.\n",
        "* Comparación con otros algoritmos de búsqueda. Evaluar el desempeño de A* frente a otros algoritmos como Dijkstra o búsqueda voraz en términos de eficiencia y calidad de la ruta."
      ],
      "metadata": {
        "id": "-YJuAmzblPPp"
      }
    }
  ]
}